{
 "cells": [
  {
   "cell_type": "code",
   "execution_count": 40,
   "metadata": {},
   "outputs": [],
   "source": [
    "import pandas as pd\n",
    "df_18 = pd.read_csv('hate_crime_2018.csv')\n",
    "df_18 = df_18[:-4]"
   ]
  },
  {
   "cell_type": "code",
   "execution_count": 41,
   "metadata": {},
   "outputs": [],
   "source": [
    "df_18.drop(['Unnamed: 1', 'Unnamed: 3'], axis=1, inplace=True)\n",
    "df_18.columns = df_18.iloc[1]\n",
    "df_18 = df_18.drop([df_18.index[0], df_18.index[1], df_18.index[2]])\n",
    "df_18.columns = ['State', 'Population', 'Hate Crimes']\n",
    "df_18['Hate Crimes'] = df_18['Hate Crimes'].str.replace(',', '')\n",
    "df_18['Population'] = df_18['Population'].str.replace(',', '')\n",
    "df_18['Population'] = df_18['Population'].astype(int)\n",
    "df_18['Hate Crimes'] = df_18['Hate Crimes'].astype(int)\n",
    "df_18['Population Proportion'] = round(df_18['Hate Crimes'] / df_18['Population'], 10)"
   ]
  },
  {
   "cell_type": "code",
   "execution_count": 116,
   "metadata": {},
   "outputs": [],
   "source": [
    "df_17 = pd.read_csv('hate_crime_2018.csv')\n",
    "df_17 = df_17[3:-4]\n",
    "df_17.drop(['Unnamed: 1', 'Unnamed: 3'], axis=1, inplace=True)\n",
    "df_17.columns = ['State', 'Population', 'Hate Crimes']\n",
    "df_17['Hate Crimes'] = df_17['Hate Crimes'].str.replace(',', '')\n",
    "df_17['Population'] = df_17['Population'].str.replace(',', '')\n",
    "df_17['Population'] = df_17['Population'].astype(int)\n",
    "df_17['Hate Crimes'] = df_17['Hate Crimes'].astype(int)\n",
    "df_17['Population Proportion'] = round(df_17['Hate Crimes'] / df_17['Population'], 10)"
   ]
  },
  {
   "cell_type": "code",
   "execution_count": 118,
   "metadata": {},
   "outputs": [],
   "source": [
    "df_17['Year'] = 2017"
   ]
  },
  {
   "cell_type": "code",
   "execution_count": 134,
   "metadata": {},
   "outputs": [
    {
     "ename": "SyntaxError",
     "evalue": "invalid syntax (<ipython-input-134-a8e8d67e00d5>, line 1)",
     "output_type": "error",
     "traceback": [
      "\u001b[0;36m  File \u001b[0;32m\"<ipython-input-134-a8e8d67e00d5>\"\u001b[0;36m, line \u001b[0;32m1\u001b[0m\n\u001b[0;31m    wyoming = [('Wyoming',57,552818,0,0, 2018), columns = ['State' , 'Population', 'Hate Crimes' , 'Population Proportion', 'Year']]\u001b[0m\n\u001b[0m                                                        ^\u001b[0m\n\u001b[0;31mSyntaxError\u001b[0m\u001b[0;31m:\u001b[0m invalid syntax\n"
     ]
    }
   ],
   "source": [
    "wyoming = [('Wyoming',57,552818,0,0, 2018)]"
   ]
  },
  {
   "cell_type": "code",
   "execution_count": 146,
   "metadata": {},
   "outputs": [],
   "source": [
    "df_18 = df_18.append({'State' : 'Wyoming' , 'Population' : 552818, 'Hate Crimes': 0, 'Population Proportion':0, 'Year': 2018} , ignore_index=True)"
   ]
  },
  {
   "cell_type": "code",
   "execution_count": 144,
   "metadata": {},
   "outputs": [],
   "source": [
    "df_18 = df_18[:-1]"
   ]
  },
  {
   "cell_type": "code",
   "execution_count": 800,
   "metadata": {},
   "outputs": [
    {
     "data": {
      "text/plain": [
       "7.5e-06"
      ]
     },
     "execution_count": 800,
     "metadata": {},
     "output_type": "execute_result"
    }
   ],
   "source": [
    "new_17\n",
    "mean_hawaii = 0.000045/6\n",
    "mean_hawaii"
   ]
  },
  {
   "cell_type": "code",
   "execution_count": 46,
   "metadata": {},
   "outputs": [],
   "source": [
    "df_16 = pd.read_csv('hate_crime_2016.csv')\n",
    "df_16.drop(['Unnamed: 1', 'Unnamed: 3', 'Unnamed: 5', 'Unnamed: 6', 'Unnamed: 7'], axis=1, inplace=True)\n",
    "df_16 = df_16.drop([df_16.index[0], df_16.index[1], df_16.index[2]])\n",
    "df_16.columns = ['State', 'Population', 'Hate Crimes']\n",
    "df_16['Hate Crimes'] = df_16['Hate Crimes'].str.replace(',', '')\n",
    "df_16['Population'] = df_16['Population'].str.replace(',', '')\n",
    "df_16['Population'] = df_16['Population'].astype(int)\n",
    "df_16['Hate Crimes'] = df_16['Hate Crimes'].astype(int)\n",
    "df_16['Population Proportion'] = round(df_16['Hate Crimes'] / df_16['Population'], 10)"
   ]
  },
  {
   "cell_type": "code",
   "execution_count": 47,
   "metadata": {},
   "outputs": [],
   "source": [
    "df_16['Year'] = 2016"
   ]
  },
  {
   "cell_type": "code",
   "execution_count": 48,
   "metadata": {},
   "outputs": [],
   "source": [
    "df_17['Year'] = 2017\n",
    "df_18['Year'] = 2018"
   ]
  },
  {
   "cell_type": "code",
   "execution_count": 49,
   "metadata": {},
   "outputs": [],
   "source": [
    "df_17_18 = pd.merge(left=df_17,right=df_18, left_on='State', right_on='State')\n"
   ]
  },
  {
   "cell_type": "code",
   "execution_count": 195,
   "metadata": {},
   "outputs": [],
   "source": [
    "frames = [df_16, df_17, df_18, df_15, df_14, df_13]"
   ]
  },
  {
   "cell_type": "code",
   "execution_count": 196,
   "metadata": {},
   "outputs": [],
   "source": [
    "result = pd.concat(frames)"
   ]
  },
  {
   "cell_type": "code",
   "execution_count": 81,
   "metadata": {},
   "outputs": [],
   "source": [
    "df_15 = pd.read_csv('hate_crime_2015.csv')\n",
    "#df_15 = df_15[:-3]"
   ]
  },
  {
   "cell_type": "code",
   "execution_count": 82,
   "metadata": {},
   "outputs": [],
   "source": [
    "df_15 = df_15[3:]"
   ]
  },
  {
   "cell_type": "code",
   "execution_count": 85,
   "metadata": {},
   "outputs": [],
   "source": [
    "df_15 = df_15[:-3]"
   ]
  },
  {
   "cell_type": "code",
   "execution_count": 90,
   "metadata": {},
   "outputs": [
    {
     "name": "stderr",
     "output_type": "stream",
     "text": [
      "/opt/anaconda3/lib/python3.7/site-packages/pandas/core/frame.py:4102: SettingWithCopyWarning: \n",
      "A value is trying to be set on a copy of a slice from a DataFrame\n",
      "\n",
      "See the caveats in the documentation: http://pandas.pydata.org/pandas-docs/stable/user_guide/indexing.html#returning-a-view-versus-a-copy\n",
      "  errors=errors,\n"
     ]
    }
   ],
   "source": [
    "df_15.drop(['Unnamed: 1', 'Unnamed: 3'], axis=1, inplace=True)\n"
   ]
  },
  {
   "cell_type": "code",
   "execution_count": 92,
   "metadata": {},
   "outputs": [],
   "source": [
    "df_15.columns = ['State', 'Population', 'Hate Crimes']"
   ]
  },
  {
   "cell_type": "code",
   "execution_count": 93,
   "metadata": {},
   "outputs": [
    {
     "name": "stderr",
     "output_type": "stream",
     "text": [
      "/opt/anaconda3/lib/python3.7/site-packages/ipykernel_launcher.py:1: SettingWithCopyWarning: \n",
      "A value is trying to be set on a copy of a slice from a DataFrame.\n",
      "Try using .loc[row_indexer,col_indexer] = value instead\n",
      "\n",
      "See the caveats in the documentation: http://pandas.pydata.org/pandas-docs/stable/user_guide/indexing.html#returning-a-view-versus-a-copy\n",
      "  \"\"\"Entry point for launching an IPython kernel.\n",
      "/opt/anaconda3/lib/python3.7/site-packages/ipykernel_launcher.py:2: SettingWithCopyWarning: \n",
      "A value is trying to be set on a copy of a slice from a DataFrame.\n",
      "Try using .loc[row_indexer,col_indexer] = value instead\n",
      "\n",
      "See the caveats in the documentation: http://pandas.pydata.org/pandas-docs/stable/user_guide/indexing.html#returning-a-view-versus-a-copy\n",
      "  \n",
      "/opt/anaconda3/lib/python3.7/site-packages/ipykernel_launcher.py:3: SettingWithCopyWarning: \n",
      "A value is trying to be set on a copy of a slice from a DataFrame.\n",
      "Try using .loc[row_indexer,col_indexer] = value instead\n",
      "\n",
      "See the caveats in the documentation: http://pandas.pydata.org/pandas-docs/stable/user_guide/indexing.html#returning-a-view-versus-a-copy\n",
      "  This is separate from the ipykernel package so we can avoid doing imports until\n",
      "/opt/anaconda3/lib/python3.7/site-packages/ipykernel_launcher.py:4: SettingWithCopyWarning: \n",
      "A value is trying to be set on a copy of a slice from a DataFrame.\n",
      "Try using .loc[row_indexer,col_indexer] = value instead\n",
      "\n",
      "See the caveats in the documentation: http://pandas.pydata.org/pandas-docs/stable/user_guide/indexing.html#returning-a-view-versus-a-copy\n",
      "  after removing the cwd from sys.path.\n",
      "/opt/anaconda3/lib/python3.7/site-packages/ipykernel_launcher.py:5: SettingWithCopyWarning: \n",
      "A value is trying to be set on a copy of a slice from a DataFrame.\n",
      "Try using .loc[row_indexer,col_indexer] = value instead\n",
      "\n",
      "See the caveats in the documentation: http://pandas.pydata.org/pandas-docs/stable/user_guide/indexing.html#returning-a-view-versus-a-copy\n",
      "  \"\"\"\n"
     ]
    }
   ],
   "source": [
    "df_15['Hate Crimes'] = df_15['Hate Crimes'].str.replace(',', '')\n",
    "df_15['Population'] = df_15['Population'].str.replace(',', '')\n",
    "df_15['Population'] = df_15['Population'].astype(int)\n",
    "df_15['Hate Crimes'] = df_15['Hate Crimes'].astype(int)\n",
    "df_15['Population Proportion'] = round(df_15['Hate Crimes'] / df_15['Population'], 10)"
   ]
  },
  {
   "cell_type": "code",
   "execution_count": 98,
   "metadata": {},
   "outputs": [
    {
     "name": "stderr",
     "output_type": "stream",
     "text": [
      "/opt/anaconda3/lib/python3.7/site-packages/ipykernel_launcher.py:1: SettingWithCopyWarning: \n",
      "A value is trying to be set on a copy of a slice from a DataFrame.\n",
      "Try using .loc[row_indexer,col_indexer] = value instead\n",
      "\n",
      "See the caveats in the documentation: http://pandas.pydata.org/pandas-docs/stable/user_guide/indexing.html#returning-a-view-versus-a-copy\n",
      "  \"\"\"Entry point for launching an IPython kernel.\n"
     ]
    }
   ],
   "source": [
    "df_15['Year'] = 2015"
   ]
  },
  {
   "cell_type": "code",
   "execution_count": 163,
   "metadata": {},
   "outputs": [],
   "source": [
    "df_14 = pd.read_csv('hate_crime_2014.csv')\n",
    "df_14 = df_14[3:-1]"
   ]
  },
  {
   "cell_type": "code",
   "execution_count": 166,
   "metadata": {},
   "outputs": [],
   "source": [
    "df_14.drop(['Unnamed: 1', 'Unnamed: 3', 'Unnamed: 5', 'Unnamed: 6', 'Unnamed: 7', 'Unnamed: 8'], axis=1, inplace=True)\n",
    "df_14.columns = ['State', 'Population', 'Hate Crimes']"
   ]
  },
  {
   "cell_type": "code",
   "execution_count": 7,
   "metadata": {},
   "outputs": [],
   "source": [
    "#df_14 = df_14.drop([df_14.index[47]])\n"
   ]
  },
  {
   "cell_type": "code",
   "execution_count": 180,
   "metadata": {},
   "outputs": [],
   "source": [
    "df_14 = df_14.drop([df_14.index[11]])\n"
   ]
  },
  {
   "cell_type": "code",
   "execution_count": 181,
   "metadata": {},
   "outputs": [],
   "source": [
    "df_14['Hate Crimes'] = df_14['Hate Crimes'].str.replace(',', '')\n",
    "df_14['Population'] = df_14['Population'].str.replace(',', '')\n",
    "df_14['Population'] = df_14['Population'].astype(int)\n",
    "df_14['Hate Crimes'] = df_14['Hate Crimes'].astype(int)\n",
    "df_14['Population Proportion'] = round(df_14['Hate Crimes'] / df_14['Population'], 10)\n",
    "df_14['Year'] = 2014"
   ]
  },
  {
   "cell_type": "code",
   "execution_count": 187,
   "metadata": {},
   "outputs": [],
   "source": [
    "df_13 = pd.read_csv('hate_crime_2013.csv')\n",
    "df_13 = df_13[3:-1]\n",
    "df_13.drop(['Unnamed: 1', 'Unnamed: 3', 'Unnamed: 5', 'Unnamed: 6', 'Unnamed: 7', 'Unnamed: 8'], axis=1, inplace=True)\n",
    "df_13.columns = ['State', 'Population', 'Hate Crimes']"
   ]
  },
  {
   "cell_type": "code",
   "execution_count": 189,
   "metadata": {},
   "outputs": [],
   "source": [
    "df_13['Hate Crimes'] = df_13['Hate Crimes'].str.replace(',', '')\n",
    "df_13['Population'] = df_13['Population'].str.replace(',', '')\n",
    "df_13['Population'] = df_13['Population'].astype(int)\n",
    "df_13['Hate Crimes'] = df_13['Hate Crimes'].astype(int)\n",
    "df_13['Population Proportion'] = round(df_13['Hate Crimes'] / df_13['Population'], 10)"
   ]
  },
  {
   "cell_type": "code",
   "execution_count": 201,
   "metadata": {},
   "outputs": [
    {
     "data": {
      "text/html": [
       "<div>\n",
       "<style scoped>\n",
       "    .dataframe tbody tr th:only-of-type {\n",
       "        vertical-align: middle;\n",
       "    }\n",
       "\n",
       "    .dataframe tbody tr th {\n",
       "        vertical-align: top;\n",
       "    }\n",
       "\n",
       "    .dataframe thead th {\n",
       "        text-align: right;\n",
       "    }\n",
       "</style>\n",
       "<table border=\"1\" class=\"dataframe\">\n",
       "  <thead>\n",
       "    <tr style=\"text-align: right;\">\n",
       "      <th></th>\n",
       "      <th>State</th>\n",
       "      <th>Population</th>\n",
       "      <th>Hate Crimes</th>\n",
       "      <th>Population Proportion</th>\n",
       "      <th>Year</th>\n",
       "    </tr>\n",
       "  </thead>\n",
       "  <tbody>\n",
       "    <tr>\n",
       "      <td>3</td>\n",
       "      <td>Alabama</td>\n",
       "      <td>1147612</td>\n",
       "      <td>6</td>\n",
       "      <td>0.000005</td>\n",
       "      <td>2013</td>\n",
       "    </tr>\n",
       "    <tr>\n",
       "      <td>3</td>\n",
       "      <td>Alabama</td>\n",
       "      <td>794907</td>\n",
       "      <td>9</td>\n",
       "      <td>0.000011</td>\n",
       "      <td>2014</td>\n",
       "    </tr>\n",
       "    <tr>\n",
       "      <td>3</td>\n",
       "      <td>Alabama</td>\n",
       "      <td>1252146</td>\n",
       "      <td>10</td>\n",
       "      <td>0.000008</td>\n",
       "      <td>2015</td>\n",
       "    </tr>\n",
       "    <tr>\n",
       "      <td>3</td>\n",
       "      <td>Alabama</td>\n",
       "      <td>1013839</td>\n",
       "      <td>14</td>\n",
       "      <td>0.000014</td>\n",
       "      <td>2016</td>\n",
       "    </tr>\n",
       "    <tr>\n",
       "      <td>3</td>\n",
       "      <td>Alabama</td>\n",
       "      <td>1865517</td>\n",
       "      <td>0</td>\n",
       "      <td>0.000000</td>\n",
       "      <td>2017</td>\n",
       "    </tr>\n",
       "    <tr>\n",
       "      <td>...</td>\n",
       "      <td>...</td>\n",
       "      <td>...</td>\n",
       "      <td>...</td>\n",
       "      <td>...</td>\n",
       "      <td>...</td>\n",
       "    </tr>\n",
       "    <tr>\n",
       "      <td>54</td>\n",
       "      <td>Wyoming</td>\n",
       "      <td>579446</td>\n",
       "      <td>0</td>\n",
       "      <td>0.000000</td>\n",
       "      <td>2014</td>\n",
       "    </tr>\n",
       "    <tr>\n",
       "      <td>52</td>\n",
       "      <td>Wyoming</td>\n",
       "      <td>564577</td>\n",
       "      <td>2</td>\n",
       "      <td>0.000004</td>\n",
       "      <td>2015</td>\n",
       "    </tr>\n",
       "    <tr>\n",
       "      <td>52</td>\n",
       "      <td>Wyoming</td>\n",
       "      <td>556446</td>\n",
       "      <td>3</td>\n",
       "      <td>0.000005</td>\n",
       "      <td>2016</td>\n",
       "    </tr>\n",
       "    <tr>\n",
       "      <td>53</td>\n",
       "      <td>Wyoming</td>\n",
       "      <td>552818</td>\n",
       "      <td>0</td>\n",
       "      <td>0.000000</td>\n",
       "      <td>2017</td>\n",
       "    </tr>\n",
       "    <tr>\n",
       "      <td>50</td>\n",
       "      <td>Wyoming</td>\n",
       "      <td>552818</td>\n",
       "      <td>0</td>\n",
       "      <td>0.000000</td>\n",
       "      <td>2018</td>\n",
       "    </tr>\n",
       "  </tbody>\n",
       "</table>\n",
       "<p>302 rows × 5 columns</p>\n",
       "</div>"
      ],
      "text/plain": [
       "      State  Population  Hate Crimes  Population Proportion  Year\n",
       "3   Alabama     1147612            6               0.000005  2013\n",
       "3   Alabama      794907            9               0.000011  2014\n",
       "3   Alabama     1252146           10               0.000008  2015\n",
       "3   Alabama     1013839           14               0.000014  2016\n",
       "3   Alabama     1865517            0               0.000000  2017\n",
       "..      ...         ...          ...                    ...   ...\n",
       "54  Wyoming      579446            0               0.000000  2014\n",
       "52  Wyoming      564577            2               0.000004  2015\n",
       "52  Wyoming      556446            3               0.000005  2016\n",
       "53  Wyoming      552818            0               0.000000  2017\n",
       "50  Wyoming      552818            0               0.000000  2018\n",
       "\n",
       "[302 rows x 5 columns]"
      ]
     },
     "execution_count": 201,
     "metadata": {},
     "output_type": "execute_result"
    }
   ],
   "source": [
    "result.sort_values(by=['State', 'Year'])"
   ]
  },
  {
   "cell_type": "code",
   "execution_count": 205,
   "metadata": {},
   "outputs": [
    {
     "data": {
      "text/plain": [
       "count    300.000000\n",
       "mean       0.000024\n",
       "std        0.000030\n",
       "min        0.000000\n",
       "25%        0.000009\n",
       "50%        0.000017\n",
       "75%        0.000029\n",
       "max        0.000303\n",
       "Name: Population Proportion, dtype: float64"
      ]
     },
     "execution_count": 205,
     "metadata": {},
     "output_type": "execute_result"
    }
   ],
   "source": [
    "result['Population Proportion'].describe()"
   ]
  },
  {
   "cell_type": "code",
   "execution_count": 213,
   "metadata": {},
   "outputs": [
    {
     "data": {
      "text/plain": [
       "(0, 0.00015)"
      ]
     },
     "execution_count": 213,
     "metadata": {},
     "output_type": "execute_result"
    },
    {
     "data": {
      "image/png": "[encoded data removed]",
      "text/plain": [
       "<Figure size 432x288 with 1 Axes>"
      ]
     },
     "metadata": {
      "needs_background": "light"
     },
     "output_type": "display_data"
    }
   ],
   "source": [
    "import numpy as np\n",
    "import matplotlib.pyplot as plt\n",
    "import seaborn as sns\n",
    "import pandas as pd\n",
    "import statsmodels.api as sm\n",
    "from statsmodels.formula.api import ols\n",
    "\n",
    "plt.scatter(df_17['State'], df_17['Population Proportion'])\n",
    "plt.ylim(0,.00015)\n"
   ]
  },
  {
   "cell_type": "code",
   "execution_count": 214,
   "metadata": {},
   "outputs": [],
   "source": [
    "result.to_csv('Hate Crime 2013-2018')"
   ]
  },
  {
   "cell_type": "code",
   "execution_count": 217,
   "metadata": {},
   "outputs": [],
   "source": [
    "gini = pd.read_csv('gini_by_state.csv', index_col=1)"
   ]
  },
  {
   "cell_type": "code",
   "execution_count": 6,
   "metadata": {
    "scrolled": true
   },
   "outputs": [],
   "source": [
    "#gini_2017 = gini[['Gini_Index_Est_2017']]\n",
    "#gini_2017['Year'] = 2017\n"
   ]
  },
  {
   "cell_type": "code",
   "execution_count": 282,
   "metadata": {},
   "outputs": [],
   "source": [
    "df_2017 = df_17.merge(gini_2017, how='left', on=['State', 'Year'])\n"
   ]
  },
  {
   "cell_type": "code",
   "execution_count": 284,
   "metadata": {},
   "outputs": [],
   "source": [
    "df_2016 = df_16.merge(gini_2016, how='left', on=['State', 'Year'])"
   ]
  },
  {
   "cell_type": "code",
   "execution_count": 285,
   "metadata": {},
   "outputs": [],
   "source": [
    "df_2015 = df_15.merge(gini_2015, how='left', on=['State', 'Year'])"
   ]
  },
  {
   "cell_type": "code",
   "execution_count": 286,
   "metadata": {},
   "outputs": [],
   "source": [
    "df_2014 = df_14.merge(gini_2014, how='left', on=['State', 'Year'])"
   ]
  },
  {
   "cell_type": "code",
   "execution_count": 287,
   "metadata": {},
   "outputs": [],
   "source": [
    "df_2013 = df_13.merge(gini_2013, how='left', on=['State', 'Year'])"
   ]
  },
  {
   "cell_type": "code",
   "execution_count": 754,
   "metadata": {},
   "outputs": [],
   "source": [
    "all_data = [[df_2017['Gini_Index_Est_2017'], df_2016['Gini_Index_Est_2016'], df_2015['Gini_Index_Est_2015'], df_2014['Gini_Index_Est_2014'], df_2013['Gini_Index_Est_2013']]]\n",
    "y = [df_2017['Population Proportion'], df_2016['Population Proportion'], df_2015['Population Proportion'], df_2014['Population Proportion'], df_2013['Population Proportion']]"
   ]
  },
  {
   "cell_type": "code",
   "execution_count": null,
   "metadata": {},
   "outputs": [],
   "source": []
  },
  {
   "cell_type": "code",
   "execution_count": 772,
   "metadata": {},
   "outputs": [
    {
     "data": {
      "text/plain": [
       "(0.4, 0.51)"
      ]
     },
     "execution_count": 772,
     "metadata": {},
     "output_type": "execute_result"
    },
    {
     "data": {
      "image/png": "[encoded data removed]",
      "text/plain": [
       "<Figure size 720x504 with 1 Axes>"
      ]
     },
     "metadata": {
      "needs_background": "light"
     },
     "output_type": "display_data"
    }
   ],
   "source": [
    "plt.figure(figsize=(10,7))\n",
    "all_data = [df_2017['Gini_Index_Est_2017'], df_2016['Gini_Index_Est_2016'], df_2015['Gini_Index_Est_2015'], df_2014['Gini_Index_Est_2014'], df_2013['Gini_Index_Est_2013']]\n",
    "plt.scatter(df_2017['Gini_Index_Est_2017'], df_2017['Population Proportion'])\n",
    "plt.scatter(df_2016['Gini_Index_Est_2016'], df_2016['Population Proportion'])\n",
    "plt.scatter(df_2015['Gini_Index_Est_2015'], df_2015['Population Proportion'])\n",
    "plt.scatter(df_2014['Gini_Index_Est_2014'], df_2014['Population Proportion'])\n",
    "plt.scatter(df_2013['Gini_Index_Est_2013'], df_2013['Population Proportion'])\n",
    "plt.xlabel('Gini Coefficient')\n",
    "plt.ylabel('Hate Crimes')\n",
    "plt.title('Hate Crimes and Gini Coefficient 2013 - 2017')\n",
    "plt.ylim(0,.0001)\n",
    "plt.xlim(.40,.51)"
   ]
  },
  {
   "cell_type": "code",
   "execution_count": 1111,
   "metadata": {},
   "outputs": [
    {
     "data": {
      "image/png": "[encoded data removed]",
      "text/plain": [
       "<Figure size 432x432 with 3 Axes>"
      ]
     },
     "metadata": {
      "needs_background": "light"
     },
     "output_type": "display_data"
    }
   ],
   "source": [
    "sns.jointplot(all_gini, all_crime,kind = 'reg')\n",
    "plt.ylim(0,.00008)\n",
    "plt.xlim(.40,.51)\n",
    "plt.xlabel('Gini Index')\n",
    "plt.ylabel('Hate Crimes')\n",
    "#ax.get_xaxis().get_major_formatter().set_scientific(False)\n",
    "plt.show()\n"
   ]
  },
  {
   "cell_type": "code",
   "execution_count": 308,
   "metadata": {},
   "outputs": [],
   "source": [
    "voter_percent = pd.read_csv('Voter Percentage', index_col = 1)"
   ]
  },
  {
   "cell_type": "code",
   "execution_count": 310,
   "metadata": {},
   "outputs": [],
   "source": [
    "voter_percent.drop(['Unnamed: 0'], axis=1, inplace=True)\n"
   ]
  },
  {
   "cell_type": "code",
   "execution_count": 311,
   "metadata": {},
   "outputs": [],
   "source": [
    "vote_haters = voter_percent.merge(df_2017, how='left', on=['State'])"
   ]
  },
  {
   "cell_type": "code",
   "execution_count": 375,
   "metadata": {},
   "outputs": [],
   "source": [
    "vote_haters['Population Proportion'].describe()\n",
    "mean = 0.000027\n",
    "std = 0.000043\n",
    "z_scores = []\n",
    "for i in vote_haters['Population Proportion']:\n",
    "    z = (i - mean)/std\n",
    "    z_scores.append(z)\n"
   ]
  },
  {
   "cell_type": "code",
   "execution_count": 376,
   "metadata": {},
   "outputs": [],
   "source": [
    "vote_haters['Z Score Pop Prop New'] = z_scores"
   ]
  },
  {
   "cell_type": "code",
   "execution_count": 377,
   "metadata": {},
   "outputs": [],
   "source": [
    "vote_haters['Population'].describe()\n",
    "mean = vote_haters['Population'].mean()\n",
    "std = vote_haters['Population'].std()\n",
    "z_scores_pop = []\n",
    "for i in vote_haters['Population']:\n",
    "    z = (i - mean)/std\n",
    "    z_scores_pop.append(z)\n",
    "vote_haters['Z Score Pop New'] = z_scores_pop"
   ]
  },
  {
   "cell_type": "code",
   "execution_count": 354,
   "metadata": {},
   "outputs": [
    {
     "data": {
      "text/plain": [
       "(0, 0.0001)"
      ]
     },
     "execution_count": 354,
     "metadata": {},
     "output_type": "execute_result"
    },
    {
     "data": {
      "image/png": "[encoded data removed]",
      "text/plain": [
       "<Figure size 432x288 with 1 Axes>"
      ]
     },
     "metadata": {
      "needs_background": "light"
     },
     "output_type": "display_data"
    }
   ],
   "source": [
    "plt.scatter(vote_haters['Population'], vote_haters['Population Proportion'])\n",
    "plt.ylim(0,.0001)\n"
   ]
  },
  {
   "cell_type": "code",
   "execution_count": 385,
   "metadata": {},
   "outputs": [],
   "source": [
    "vote_haters.drop(['Z Score', 'Z Score Pop', 'Z Score Pop Prop'], axis=1, inplace=True)\n"
   ]
  },
  {
   "cell_type": "code",
   "execution_count": 387,
   "metadata": {},
   "outputs": [],
   "source": [
    "vote_haters.drop(['Z Score Pop Prop New', 'Z Score Pop New'], axis=1, inplace=True)\n"
   ]
  },
  {
   "cell_type": "code",
   "execution_count": 384,
   "metadata": {},
   "outputs": [
    {
     "data": {
      "text/plain": [
       "<matplotlib.collections.PathCollection at 0x1c24d8ce50>"
      ]
     },
     "execution_count": 384,
     "metadata": {},
     "output_type": "execute_result"
    },
    {
     "data": {
      "image/png": "[encoded data removed]",
      "text/plain": [
       "<Figure size 432x288 with 1 Axes>"
      ]
     },
     "metadata": {
      "needs_background": "light"
     },
     "output_type": "display_data"
    }
   ],
   "source": [
    "plt.scatter(vote_haters['Z Score Pop New'], vote_haters['Z Score Pop Prop New'])"
   ]
  },
  {
   "cell_type": "code",
   "execution_count": null,
   "metadata": {},
   "outputs": [],
   "source": [
    "median_income_pearson = median_income.corr(method='pearson')"
   ]
  },
  {
   "cell_type": "code",
   "execution_count": null,
   "metadata": {},
   "outputs": [],
   "source": [
    "mask = np.zeros_like(median_income_pearson, dtype=np.bool)\n",
    "mask[np.triu_indices_from(mask)] = True\n",
    "#this sets up the figure\n",
    "f, ax = plt.subplots(figsize=(7, 5))\n",
    "#this is a custom diverging colormap\n",
    "cmap = sns.diverging_palette(220, 10, as_cmap=True)\n",
    "sns.heatmap(median_income_pearson, mask=mask, cmap=cmap, vmin=-1, vmax=1, center=0,\n",
    "            square=True, linewidths=.5, cbar_kws={\"shrink\": .5})"
   ]
  },
  {
   "cell_type": "code",
   "execution_count": 413,
   "metadata": {},
   "outputs": [],
   "source": [
    "all_hate = pd.read_csv('Hate Crime 2013-2018')"
   ]
  },
  {
   "cell_type": "code",
   "execution_count": 414,
   "metadata": {},
   "outputs": [
    {
     "data": {
      "text/html": [
       "<div>\n",
       "<style scoped>\n",
       "    .dataframe tbody tr th:only-of-type {\n",
       "        vertical-align: middle;\n",
       "    }\n",
       "\n",
       "    .dataframe tbody tr th {\n",
       "        vertical-align: top;\n",
       "    }\n",
       "\n",
       "    .dataframe thead th {\n",
       "        text-align: right;\n",
       "    }\n",
       "</style>\n",
       "<table border=\"1\" class=\"dataframe\">\n",
       "  <thead>\n",
       "    <tr style=\"text-align: right;\">\n",
       "      <th></th>\n",
       "      <th>Unnamed: 0</th>\n",
       "      <th>State</th>\n",
       "      <th>Population</th>\n",
       "      <th>Hate Crimes</th>\n",
       "      <th>Population Proportion</th>\n",
       "      <th>Year</th>\n",
       "    </tr>\n",
       "  </thead>\n",
       "  <tbody>\n",
       "    <tr>\n",
       "      <td>0</td>\n",
       "      <td>3</td>\n",
       "      <td>Alabama</td>\n",
       "      <td>1013839</td>\n",
       "      <td>14</td>\n",
       "      <td>0.000014</td>\n",
       "      <td>2016</td>\n",
       "    </tr>\n",
       "    <tr>\n",
       "      <td>1</td>\n",
       "      <td>4</td>\n",
       "      <td>Alaska</td>\n",
       "      <td>738566</td>\n",
       "      <td>11</td>\n",
       "      <td>0.000015</td>\n",
       "      <td>2016</td>\n",
       "    </tr>\n",
       "    <tr>\n",
       "      <td>2</td>\n",
       "      <td>5</td>\n",
       "      <td>Arizona</td>\n",
       "      <td>6361910</td>\n",
       "      <td>213</td>\n",
       "      <td>0.000033</td>\n",
       "      <td>2016</td>\n",
       "    </tr>\n",
       "    <tr>\n",
       "      <td>3</td>\n",
       "      <td>6</td>\n",
       "      <td>Arkansas</td>\n",
       "      <td>2853645</td>\n",
       "      <td>12</td>\n",
       "      <td>0.000004</td>\n",
       "      <td>2016</td>\n",
       "    </tr>\n",
       "    <tr>\n",
       "      <td>4</td>\n",
       "      <td>7</td>\n",
       "      <td>California</td>\n",
       "      <td>39242633</td>\n",
       "      <td>931</td>\n",
       "      <td>0.000024</td>\n",
       "      <td>2016</td>\n",
       "    </tr>\n",
       "    <tr>\n",
       "      <td>...</td>\n",
       "      <td>...</td>\n",
       "      <td>...</td>\n",
       "      <td>...</td>\n",
       "      <td>...</td>\n",
       "      <td>...</td>\n",
       "      <td>...</td>\n",
       "    </tr>\n",
       "    <tr>\n",
       "      <td>296</td>\n",
       "      <td>49</td>\n",
       "      <td>Virginia</td>\n",
       "      <td>8258337</td>\n",
       "      <td>119</td>\n",
       "      <td>0.000014</td>\n",
       "      <td>2013</td>\n",
       "    </tr>\n",
       "    <tr>\n",
       "      <td>298</td>\n",
       "      <td>51</td>\n",
       "      <td>Washington</td>\n",
       "      <td>6967181</td>\n",
       "      <td>291</td>\n",
       "      <td>0.000042</td>\n",
       "      <td>2013</td>\n",
       "    </tr>\n",
       "    <tr>\n",
       "      <td>299</td>\n",
       "      <td>52</td>\n",
       "      <td>West Virginia</td>\n",
       "      <td>1670269</td>\n",
       "      <td>56</td>\n",
       "      <td>0.000034</td>\n",
       "      <td>2013</td>\n",
       "    </tr>\n",
       "    <tr>\n",
       "      <td>300</td>\n",
       "      <td>53</td>\n",
       "      <td>Wisconsin</td>\n",
       "      <td>5691976</td>\n",
       "      <td>50</td>\n",
       "      <td>0.000009</td>\n",
       "      <td>2013</td>\n",
       "    </tr>\n",
       "    <tr>\n",
       "      <td>301</td>\n",
       "      <td>54</td>\n",
       "      <td>Wyoming</td>\n",
       "      <td>577987</td>\n",
       "      <td>1</td>\n",
       "      <td>0.000002</td>\n",
       "      <td>2013</td>\n",
       "    </tr>\n",
       "  </tbody>\n",
       "</table>\n",
       "<p>301 rows × 6 columns</p>\n",
       "</div>"
      ],
      "text/plain": [
       "     Unnamed: 0          State  Population  Hate Crimes  \\\n",
       "0             3        Alabama     1013839           14   \n",
       "1             4         Alaska      738566           11   \n",
       "2             5        Arizona     6361910          213   \n",
       "3             6       Arkansas     2853645           12   \n",
       "4             7     California    39242633          931   \n",
       "..          ...            ...         ...          ...   \n",
       "296          49       Virginia     8258337          119   \n",
       "298          51     Washington     6967181          291   \n",
       "299          52  West Virginia     1670269           56   \n",
       "300          53      Wisconsin     5691976           50   \n",
       "301          54        Wyoming      577987            1   \n",
       "\n",
       "     Population Proportion  Year  \n",
       "0                 0.000014  2016  \n",
       "1                 0.000015  2016  \n",
       "2                 0.000033  2016  \n",
       "3                 0.000004  2016  \n",
       "4                 0.000024  2016  \n",
       "..                     ...   ...  \n",
       "296               0.000014  2013  \n",
       "298               0.000042  2013  \n",
       "299               0.000034  2013  \n",
       "300               0.000009  2013  \n",
       "301               0.000002  2013  \n",
       "\n",
       "[301 rows x 6 columns]"
      ]
     },
     "execution_count": 414,
     "metadata": {},
     "output_type": "execute_result"
    }
   ],
   "source": [
    "all_hate.drop([297])"
   ]
  },
  {
   "cell_type": "code",
   "execution_count": 422,
   "metadata": {},
   "outputs": [
    {
     "data": {
      "text/plain": [
       "(-0.0001, 0.0001)"
      ]
     },
     "execution_count": 422,
     "metadata": {},
     "output_type": "execute_result"
    },
    {
     "data": {
      "image/png": "[encoded data removed]",
      "text/plain": [
       "<Figure size 432x288 with 1 Axes>"
      ]
     },
     "metadata": {
      "needs_background": "light"
     },
     "output_type": "display_data"
    }
   ],
   "source": [
    "plt.scatter(all_hate['State'], all_hate['Population Proportion'])\n",
    "plt.ylim(-.0001, .0001)"
   ]
  },
  {
   "cell_type": "code",
   "execution_count": 417,
   "metadata": {},
   "outputs": [
    {
     "data": {
      "text/plain": [
       "302"
      ]
     },
     "execution_count": 417,
     "metadata": {},
     "output_type": "execute_result"
    }
   ],
   "source": [
    "len(all_hate['State'])"
   ]
  },
  {
   "cell_type": "code",
   "execution_count": 418,
   "metadata": {},
   "outputs": [
    {
     "data": {
      "text/plain": [
       "302"
      ]
     },
     "execution_count": 418,
     "metadata": {},
     "output_type": "execute_result"
    }
   ],
   "source": [
    "len(all_hate['Population Proportion'])"
   ]
  },
  {
   "cell_type": "code",
   "execution_count": 462,
   "metadata": {},
   "outputs": [],
   "source": [
    "pop_prop_13 = df_13[['State', 'Population Proportion']]"
   ]
  },
  {
   "cell_type": "code",
   "execution_count": 463,
   "metadata": {},
   "outputs": [],
   "source": [
    "pop_prop_14 = df_14[['State', 'Population Proportion']]"
   ]
  },
  {
   "cell_type": "code",
   "execution_count": 464,
   "metadata": {},
   "outputs": [],
   "source": [
    "pop_prop_15 = df_15[['State', 'Population Proportion']]"
   ]
  },
  {
   "cell_type": "code",
   "execution_count": 465,
   "metadata": {},
   "outputs": [],
   "source": [
    "pop_prop_16 = df_16[['State', 'Population Proportion']]"
   ]
  },
  {
   "cell_type": "code",
   "execution_count": 595,
   "metadata": {},
   "outputs": [],
   "source": [
    "pop_prop_17 = new_17[['State', 'Population Proportion']]"
   ]
  },
  {
   "cell_type": "code",
   "execution_count": 467,
   "metadata": {},
   "outputs": [],
   "source": [
    "pop_prop_18 = df_18[['State', 'Population Proportion']]"
   ]
  },
  {
   "cell_type": "code",
   "execution_count": 438,
   "metadata": {},
   "outputs": [],
   "source": [
    "yearly_hate_crimes = df_13[['State']]"
   ]
  },
  {
   "cell_type": "code",
   "execution_count": 596,
   "metadata": {},
   "outputs": [],
   "source": [
    "yearly_hate_crimes = yearly_hate_crimes.merge(pop_prop_17, how='left', on=['State'])"
   ]
  },
  {
   "cell_type": "code",
   "execution_count": 597,
   "metadata": {},
   "outputs": [],
   "source": [
    "yearly_hate_crimes = yearly_hate_crimes.rename(columns={\"Population Proportion\": \"2017\"})"
   ]
  },
  {
   "cell_type": "code",
   "execution_count": 573,
   "metadata": {},
   "outputs": [],
   "source": [
    "new_17 = pd.read_csv('hate_crime_2017.csv')"
   ]
  },
  {
   "cell_type": "code",
   "execution_count": 575,
   "metadata": {},
   "outputs": [],
   "source": [
    "new_17.columns = new_17.iloc[1]"
   ]
  },
  {
   "cell_type": "code",
   "execution_count": 4,
   "metadata": {},
   "outputs": [],
   "source": [
    "#new_17 = new_17.drop([new_17.index[0], df_18.index[1], df_18.index[2]])\n"
   ]
  },
  {
   "cell_type": "code",
   "execution_count": 587,
   "metadata": {},
   "outputs": [],
   "source": [
    "new_17 = new_17[['Participating state', 'Population\\ncovered', 'Total\\nnumber of\\nincidents\\nreported']]"
   ]
  },
  {
   "cell_type": "code",
   "execution_count": 589,
   "metadata": {},
   "outputs": [],
   "source": [
    "new_17.columns = ['State', 'Population', 'Hate Crimes']"
   ]
  },
  {
   "cell_type": "code",
   "execution_count": 592,
   "metadata": {},
   "outputs": [
    {
     "name": "stderr",
     "output_type": "stream",
     "text": [
      "/opt/anaconda3/lib/python3.7/site-packages/ipykernel_launcher.py:1: SettingWithCopyWarning: \n",
      "A value is trying to be set on a copy of a slice from a DataFrame.\n",
      "Try using .loc[row_indexer,col_indexer] = value instead\n",
      "\n",
      "See the caveats in the documentation: http://pandas.pydata.org/pandas-docs/stable/user_guide/indexing.html#returning-a-view-versus-a-copy\n",
      "  \"\"\"Entry point for launching an IPython kernel.\n",
      "/opt/anaconda3/lib/python3.7/site-packages/ipykernel_launcher.py:2: SettingWithCopyWarning: \n",
      "A value is trying to be set on a copy of a slice from a DataFrame.\n",
      "Try using .loc[row_indexer,col_indexer] = value instead\n",
      "\n",
      "See the caveats in the documentation: http://pandas.pydata.org/pandas-docs/stable/user_guide/indexing.html#returning-a-view-versus-a-copy\n",
      "  \n",
      "/opt/anaconda3/lib/python3.7/site-packages/ipykernel_launcher.py:3: SettingWithCopyWarning: \n",
      "A value is trying to be set on a copy of a slice from a DataFrame.\n",
      "Try using .loc[row_indexer,col_indexer] = value instead\n",
      "\n",
      "See the caveats in the documentation: http://pandas.pydata.org/pandas-docs/stable/user_guide/indexing.html#returning-a-view-versus-a-copy\n",
      "  This is separate from the ipykernel package so we can avoid doing imports until\n",
      "/opt/anaconda3/lib/python3.7/site-packages/ipykernel_launcher.py:4: SettingWithCopyWarning: \n",
      "A value is trying to be set on a copy of a slice from a DataFrame.\n",
      "Try using .loc[row_indexer,col_indexer] = value instead\n",
      "\n",
      "See the caveats in the documentation: http://pandas.pydata.org/pandas-docs/stable/user_guide/indexing.html#returning-a-view-versus-a-copy\n",
      "  after removing the cwd from sys.path.\n"
     ]
    }
   ],
   "source": [
    "new_17['Hate Crimes'] = new_17['Hate Crimes'].str.replace(',', '')\n",
    "new_17['Population'] = new_17['Population'].str.replace(',', '')\n",
    "new_17['Population'] = new_17['Population'].astype(int)\n",
    "new_17['Hate Crimes'] = new_17['Hate Crimes'].astype(int)"
   ]
  },
  {
   "cell_type": "code",
   "execution_count": 593,
   "metadata": {},
   "outputs": [
    {
     "name": "stderr",
     "output_type": "stream",
     "text": [
      "/opt/anaconda3/lib/python3.7/site-packages/ipykernel_launcher.py:1: SettingWithCopyWarning: \n",
      "A value is trying to be set on a copy of a slice from a DataFrame.\n",
      "Try using .loc[row_indexer,col_indexer] = value instead\n",
      "\n",
      "See the caveats in the documentation: http://pandas.pydata.org/pandas-docs/stable/user_guide/indexing.html#returning-a-view-versus-a-copy\n",
      "  \"\"\"Entry point for launching an IPython kernel.\n"
     ]
    }
   ],
   "source": [
    "new_17['Population Proportion'] = round(new_17['Hate Crimes'] / new_17['Population'], 10)"
   ]
  },
  {
   "cell_type": "code",
   "execution_count": null,
   "metadata": {},
   "outputs": [],
   "source": [
    "median_income_pearson = median_income.corr(method='pearson')"
   ]
  },
  {
   "cell_type": "code",
   "execution_count": 499,
   "metadata": {},
   "outputs": [],
   "source": [
    "yearly_hate_crimes = yearly_hate_crimes.rename(index={\"2016\": 4})"
   ]
  },
  {
   "cell_type": "code",
   "execution_count": 501,
   "metadata": {},
   "outputs": [],
   "source": [
    "yearly_hate_crimes.columns = ['State', '2013', '2014', '2015', '2016', '2017']"
   ]
  },
  {
   "cell_type": "code",
   "execution_count": 610,
   "metadata": {},
   "outputs": [],
   "source": [
    "corr = yearly_hate_crimes.corr(method='pearson')"
   ]
  },
  {
   "cell_type": "code",
   "execution_count": 522,
   "metadata": {},
   "outputs": [],
   "source": [
    "yearly_transposed = yearly_hate_crimes.T"
   ]
  },
  {
   "cell_type": "code",
   "execution_count": 550,
   "metadata": {},
   "outputs": [],
   "source": [
    "corr = yearly_transposed.corr(method='pearson')"
   ]
  },
  {
   "cell_type": "code",
   "execution_count": 527,
   "metadata": {},
   "outputs": [],
   "source": [
    "yearly_transposed.columns = yearly_transposed.iloc[0]"
   ]
  },
  {
   "cell_type": "code",
   "execution_count": 530,
   "metadata": {},
   "outputs": [],
   "source": [
    "yearly_transposed = yearly_transposed.drop([yearly_transposed.index[0]])"
   ]
  },
  {
   "cell_type": "code",
   "execution_count": 3,
   "metadata": {},
   "outputs": [],
   "source": [
    "#yearly_hate_crimes.iloc[0:3].corr(method='pearson')"
   ]
  },
  {
   "cell_type": "markdown",
   "metadata": {},
   "source": []
  },
  {
   "cell_type": "code",
   "execution_count": 599,
   "metadata": {},
   "outputs": [],
   "source": [
    "yearly_hate_crimes.drop(['Population Proportion_x'], axis=1, inplace=True)\n"
   ]
  },
  {
   "cell_type": "code",
   "execution_count": 600,
   "metadata": {},
   "outputs": [],
   "source": [
    "yearly_hate_crimes = yearly_hate_crimes.rename(columns={\"Population Proportion_y\": \"2017\"})"
   ]
  },
  {
   "cell_type": "code",
   "execution_count": 604,
   "metadata": {},
   "outputs": [],
   "source": [
    "yearly_hate_crimes.columns = ['State', '2013', '2014', '2015', '2016', 'Null', '2018', '2017']"
   ]
  },
  {
   "cell_type": "code",
   "execution_count": 605,
   "metadata": {},
   "outputs": [],
   "source": [
    "yearly_hate_crimes.drop(['Null'], axis=1, inplace=True)\n"
   ]
  },
  {
   "cell_type": "code",
   "execution_count": 607,
   "metadata": {},
   "outputs": [],
   "source": [
    "yearly_hate_crimes = yearly_hate_crimes[['State', '2013', '2014', '2015', '2016', '2017', '2018']]"
   ]
  },
  {
   "cell_type": "code",
   "execution_count": 710,
   "metadata": {},
   "outputs": [],
   "source": [
    "mean_2013 = yearly_hate_crimes['2013'].mean()\n",
    "mean_2014 = yearly_hate_crimes['2014'].mean()\n",
    "mean_2015 = yearly_hate_crimes['2015'].mean()\n",
    "mean_2016 = yearly_hate_crimes['2016'].mean()\n",
    "mean_2017 = yearly_hate_crimes['2017'].mean()\n",
    "mean_2018 = yearly_hate_crimes['2018'].mean()"
   ]
  },
  {
   "cell_type": "code",
   "execution_count": 720,
   "metadata": {},
   "outputs": [],
   "source": [
    "data = [mean_2013, mean_2014, mean_2015, mean_2016, mean_2017, mean_2018]"
   ]
  },
  {
   "cell_type": "code",
   "execution_count": 625,
   "metadata": {},
   "outputs": [],
   "source": [
    "year = ['2013', '2014', '2015', '2016', '2017', '2018']"
   ]
  },
  {
   "cell_type": "code",
   "execution_count": 700,
   "metadata": {},
   "outputs": [],
   "source": [
    "b = yearly_hate_crimes.iloc[31][1:]"
   ]
  },
  {
   "cell_type": "code",
   "execution_count": 732,
   "metadata": {},
   "outputs": [],
   "source": [
    "means = []\n",
    "for i in range(len(yearly_hate_crimes)):\n",
    "    mean = yearly_hate_crimes.iloc[i][1:].mean()\n",
    "    means.append(mean)"
   ]
  },
  {
   "cell_type": "code",
   "execution_count": 733,
   "metadata": {},
   "outputs": [
    {
     "name": "stderr",
     "output_type": "stream",
     "text": [
      "/opt/anaconda3/lib/python3.7/site-packages/ipykernel_launcher.py:1: SettingWithCopyWarning: \n",
      "A value is trying to be set on a copy of a slice from a DataFrame.\n",
      "Try using .loc[row_indexer,col_indexer] = value instead\n",
      "\n",
      "See the caveats in the documentation: http://pandas.pydata.org/pandas-docs/stable/user_guide/indexing.html#returning-a-view-versus-a-copy\n",
      "  \"\"\"Entry point for launching an IPython kernel.\n"
     ]
    }
   ],
   "source": [
    "yearly_hate_crimes['Average'] = means"
   ]
  },
  {
   "cell_type": "code",
   "execution_count": 735,
   "metadata": {},
   "outputs": [],
   "source": [
    "yearly_hate_crimes.to_csv('Yearly Hate Crimes.csv')"
   ]
  },
  {
   "cell_type": "code",
   "execution_count": 973,
   "metadata": {},
   "outputs": [
    {
     "data": {
      "image/png": "[encoded data removed]",
      "text/plain": [
       "<Figure size 432x288 with 1 Axes>"
      ]
     },
     "metadata": {
      "needs_background": "light"
     },
     "output_type": "display_data"
    }
   ],
   "source": [
    "import numpy as np \n",
    "import pylab \n",
    "import scipy.stats as stats\n",
    "stats.probplot(df_18['Population Proportion'], dist=\"norm\", plot=pylab)\n",
    "pylab.show()"
   ]
  },
  {
   "cell_type": "code",
   "execution_count": 811,
   "metadata": {},
   "outputs": [],
   "source": [
    "voters = pd.read_csv('Voter Percentage')"
   ]
  },
  {
   "cell_type": "code",
   "execution_count": 813,
   "metadata": {},
   "outputs": [],
   "source": [
    "voters = voters[['State', 'share_voters_voted_trump']]"
   ]
  },
  {
   "cell_type": "code",
   "execution_count": 815,
   "metadata": {},
   "outputs": [],
   "source": [
    "yearly_hate_crimes = yearly_hate_crimes.merge(voters, how='left', on=['State'])"
   ]
  },
  {
   "cell_type": "code",
   "execution_count": 819,
   "metadata": {},
   "outputs": [],
   "source": [
    "yearly_hate_crimes = yearly_hate_crimes.rename(columns={\"share_voters_voted_trump\": \"Voters\"})"
   ]
  },
  {
   "cell_type": "code",
   "execution_count": 821,
   "metadata": {},
   "outputs": [],
   "source": [
    "z_scores = []\n",
    "for i in range(len(yearly_hate_crimes)):\n",
    "    z = (yearly_hate_crimes['Voters'][i] - yearly_hate_crimes['Voters'].mean()) / yearly_hate_crimes['Voters'].std()\n",
    "    z_scores.append(z)"
   ]
  },
  {
   "cell_type": "code",
   "execution_count": 822,
   "metadata": {},
   "outputs": [],
   "source": [
    "yearly_hate_crimes['Voters Z Score'] = z_scores"
   ]
  },
  {
   "cell_type": "code",
   "execution_count": 826,
   "metadata": {},
   "outputs": [],
   "source": [
    "yearly_hate_crimes['Percent Change'] = (yearly_hate_crimes['2017'] - yearly_hate_crimes['2016'])/yearly_hate_crimes['2017']"
   ]
  },
  {
   "cell_type": "code",
   "execution_count": 828,
   "metadata": {},
   "outputs": [],
   "source": [
    "yearly_hate_crimes['Percent Change'] = yearly_hate_crimes['Percent Change'] * 100"
   ]
  },
  {
   "cell_type": "code",
   "execution_count": 830,
   "metadata": {},
   "outputs": [
    {
     "name": "stdout",
     "output_type": "stream",
     "text": [
      "29\n",
      "21\n"
     ]
    }
   ],
   "source": [
    "pos = []\n",
    "neg = []\n",
    "for i in yearly_hate_crimes['Percent Change']:\n",
    "    if i > 0:\n",
    "        positive = i\n",
    "        pos.append(positive)\n",
    "    if i < 0:\n",
    "        negative = i\n",
    "        neg.append(negative)\n",
    "print(len(pos))\n",
    "print(len(neg))"
   ]
  },
  {
   "cell_type": "code",
   "execution_count": 841,
   "metadata": {},
   "outputs": [],
   "source": [
    "z_scores_change = []\n",
    "for i in range(len(yearly_hate_crimes)):\n",
    "    z = (yearly_hate_crimes['Percent Change'][i] - yearly_hate_crimes['Percent Change'].mean()) / yearly_hate_crimes['Percent Change'].std()\n",
    "    z_scores_change.append(z)"
   ]
  },
  {
   "cell_type": "code",
   "execution_count": 842,
   "metadata": {},
   "outputs": [],
   "source": [
    "yearly_hate_crimes['Percent Change Z Score'] = z_scores_change"
   ]
  },
  {
   "cell_type": "code",
   "execution_count": 886,
   "metadata": {},
   "outputs": [
    {
     "data": {
      "text/plain": [
       "<matplotlib.axes._subplots.AxesSubplot at 0x1c2a046f90>"
      ]
     },
     "execution_count": 886,
     "metadata": {},
     "output_type": "execute_result"
    },
    {
     "data": {
      "image/png": "[encoded data removed]",
      "text/plain": [
       "<Figure size 720x504 with 1 Axes>"
      ]
     },
     "metadata": {
      "needs_background": "light"
     },
     "output_type": "display_data"
    }
   ],
   "source": [
    "plt.figure(figsize=(10,7))\n",
    "#plt.scatter(yearly_hate_crimes['Voters Z Score'], yearly_hate_crimes['Percent Change Z Score'])\n",
    "#plt.ylim(-.25,1)\n",
    "plt.xlabel('Percent Change in Hate Crimes 2016-2017')\n",
    "plt.ylabel('Trump Voters Z Score')\n",
    "plt.title('Voters and Hate Crime Increase')\n",
    "sns.regplot(x = yearly_hate_crimes_new['Voters Z Score'], y = yearly_hate_crimes_new['Percent Change Z Score'])\n",
    "\n",
    "#plt.xlim(-1.5,2)"
   ]
  },
  {
   "cell_type": "code",
   "execution_count": 931,
   "metadata": {},
   "outputs": [
    {
     "data": {
      "text/plain": [
       "<matplotlib.axes._subplots.AxesSubplot at 0x1c2761cb50>"
      ]
     },
     "execution_count": 931,
     "metadata": {},
     "output_type": "execute_result"
    },
    {
     "data": {
      "image/png": "[encoded data removed]",
      "text/plain": [
       "<Figure size 720x504 with 1 Axes>"
      ]
     },
     "metadata": {
      "needs_background": "light"
     },
     "output_type": "display_data"
    }
   ],
   "source": [
    "plt.figure(figsize=(10,7))\n",
    "#plt.scatter(yearly_hate_crimes['Voters Z Score'], yearly_hate_crimes['Percent Change Z Score'])\n",
    "plt.ylim(-.2,.8)\n",
    "plt.xlabel('Percent Change in Hate Crimes 2016-2017')\n",
    "plt.ylabel('Trump Voters Z Score')\n",
    "plt.title('Voters and Hate Crime Increase')\n",
    "sns.regplot(x = yearly_hate_crimes_new['voters'], y = yearly_hate_crimes_new['change'])\n",
    "\n",
    "#plt.xlim(-1.5,2)"
   ]
  },
  {
   "cell_type": "code",
   "execution_count": 1070,
   "metadata": {},
   "outputs": [],
   "source": [
    "import numpy as np\n",
    "import pandas as pd\n",
    "import matplotlib.pyplot as plt\n",
    "%matplotlib inline\n",
    "from sklearn.linear_model import LinearRegression\n",
    "from sklearn.model_selection import train_test_split\n",
    "from sklearn.preprocessing import PolynomialFeatures\n",
    "from sklearn.preprocessing import MinMaxScaler\n",
    "from sklearn.metrics import mean_squared_error\n",
    "\n",
    "from sklearn.linear_model import LinearRegression\n",
    "from sklearn.preprocessing import MinMaxScaler\n",
    "from sklearn.linear_model import Lasso, Ridge, LinearRegression\n",
    "from sklearn.model_selection import train_test_split\n",
    "import pandas as pd\n",
    "import numpy as np\n",
    "import matplotlib.pyplot as plt"
   ]
  },
  {
   "cell_type": "code",
   "execution_count": 1071,
   "metadata": {},
   "outputs": [],
   "source": [
    "y = yearly_hate_crimes_new['Percent Change Z Score']\n",
    "x = yearly_hate_crimes_new['Voters Z Score']\n",
    "X_train , X_test, y_train, y_test = train_test_split(x, y, test_size=0.3)"
   ]
  },
  {
   "cell_type": "code",
   "execution_count": 2,
   "metadata": {},
   "outputs": [],
   "source": [
    "#scale = MinMaxScaler()\n",
    "#X_train_transformed = scale.fit_transform(X_train)\n",
    "#X_test_transformed = scale.transform(X_test)"
   ]
  },
  {
   "cell_type": "code",
   "execution_count": 902,
   "metadata": {},
   "outputs": [],
   "source": [
    "import pandas as pd\n",
    "import statsmodels.api as sm\n",
    "from statsmodels.formula.api import ols\n",
    "import matplotlib.pyplot as plt\n",
    "import seaborn as sns\n",
    "lr_model = ols(formula='voters~change', data=yearly_hate_crimes_new).fit()\n",
    "lr_model.summary()"
   ]
  },
  {
   "cell_type": "code",
   "execution_count": 903,
   "metadata": {},
   "outputs": [
    {
     "data": {
      "text/html": [
       "<table class=\"simpletable\">\n",
       "<caption>OLS Regression Results</caption>\n",
       "<tr>\n",
       "  <th>Dep. Variable:</th>         <td>voters</td>      <th>  R-squared:         </th> <td>   0.003</td>\n",
       "</tr>\n",
       "<tr>\n",
       "  <th>Model:</th>                   <td>OLS</td>       <th>  Adj. R-squared:    </th> <td>  -0.022</td>\n",
       "</tr>\n",
       "<tr>\n",
       "  <th>Method:</th>             <td>Least Squares</td>  <th>  F-statistic:       </th> <td>  0.1119</td>\n",
       "</tr>\n",
       "<tr>\n",
       "  <th>Date:</th>             <td>Thu, 16 Jan 2020</td> <th>  Prob (F-statistic):</th>  <td> 0.740</td> \n",
       "</tr>\n",
       "<tr>\n",
       "  <th>Time:</th>                 <td>10:47:34</td>     <th>  Log-Likelihood:    </th> <td> -53.858</td>\n",
       "</tr>\n",
       "<tr>\n",
       "  <th>No. Observations:</th>      <td>    43</td>      <th>  AIC:               </th> <td>   111.7</td>\n",
       "</tr>\n",
       "<tr>\n",
       "  <th>Df Residuals:</th>          <td>    41</td>      <th>  BIC:               </th> <td>   115.2</td>\n",
       "</tr>\n",
       "<tr>\n",
       "  <th>Df Model:</th>              <td>     1</td>      <th>                     </th>     <td> </td>   \n",
       "</tr>\n",
       "<tr>\n",
       "  <th>Covariance Type:</th>      <td>nonrobust</td>    <th>                     </th>     <td> </td>   \n",
       "</tr>\n",
       "</table>\n",
       "<table class=\"simpletable\">\n",
       "<tr>\n",
       "      <td></td>         <th>coef</th>     <th>std err</th>      <th>t</th>      <th>P>|t|</th>  <th>[0.025</th>    <th>0.975]</th>  \n",
       "</tr>\n",
       "<tr>\n",
       "  <th>Intercept</th> <td>    0.1361</td> <td>    0.240</td> <td>    0.567</td> <td> 0.574</td> <td>   -0.349</td> <td>    0.621</td>\n",
       "</tr>\n",
       "<tr>\n",
       "  <th>change</th>    <td>   -0.2271</td> <td>    0.679</td> <td>   -0.335</td> <td> 0.740</td> <td>   -1.598</td> <td>    1.144</td>\n",
       "</tr>\n",
       "</table>\n",
       "<table class=\"simpletable\">\n",
       "<tr>\n",
       "  <th>Omnibus:</th>       <td> 2.904</td> <th>  Durbin-Watson:     </th> <td>   1.655</td>\n",
       "</tr>\n",
       "<tr>\n",
       "  <th>Prob(Omnibus):</th> <td> 0.234</td> <th>  Jarque-Bera (JB):  </th> <td>   1.506</td>\n",
       "</tr>\n",
       "<tr>\n",
       "  <th>Skew:</th>          <td> 0.070</td> <th>  Prob(JB):          </th> <td>   0.471</td>\n",
       "</tr>\n",
       "<tr>\n",
       "  <th>Kurtosis:</th>      <td> 2.094</td> <th>  Cond. No.          </th> <td>    5.60</td>\n",
       "</tr>\n",
       "</table><br/><br/>Warnings:<br/>[1] Standard Errors assume that the covariance matrix of the errors is correctly specified."
      ],
      "text/plain": [
       "<class 'statsmodels.iolib.summary.Summary'>\n",
       "\"\"\"\n",
       "                            OLS Regression Results                            \n",
       "==============================================================================\n",
       "Dep. Variable:                 voters   R-squared:                       0.003\n",
       "Model:                            OLS   Adj. R-squared:                 -0.022\n",
       "Method:                 Least Squares   F-statistic:                    0.1119\n",
       "Date:                Thu, 16 Jan 2020   Prob (F-statistic):              0.740\n",
       "Time:                        10:47:34   Log-Likelihood:                -53.858\n",
       "No. Observations:                  43   AIC:                             111.7\n",
       "Df Residuals:                      41   BIC:                             115.2\n",
       "Df Model:                           1                                         \n",
       "Covariance Type:            nonrobust                                         \n",
       "==============================================================================\n",
       "                 coef    std err          t      P>|t|      [0.025      0.975]\n",
       "------------------------------------------------------------------------------\n",
       "Intercept      0.1361      0.240      0.567      0.574      -0.349       0.621\n",
       "change        -0.2271      0.679     -0.335      0.740      -1.598       1.144\n",
       "==============================================================================\n",
       "Omnibus:                        2.904   Durbin-Watson:                   1.655\n",
       "Prob(Omnibus):                  0.234   Jarque-Bera (JB):                1.506\n",
       "Skew:                           0.070   Prob(JB):                        0.471\n",
       "Kurtosis:                       2.094   Cond. No.                         5.60\n",
       "==============================================================================\n",
       "\n",
       "Warnings:\n",
       "[1] Standard Errors assume that the covariance matrix of the errors is correctly specified.\n",
       "\"\"\""
      ]
     },
     "execution_count": 903,
     "metadata": {},
     "output_type": "execute_result"
    }
   ],
   "source": [
    "lr_model = ols(formula='voters~change', data=yearly_hate_crimes_new).fit()\n",
    "lr_model.summary()"
   ]
  },
  {
   "cell_type": "code",
   "execution_count": 873,
   "metadata": {},
   "outputs": [],
   "source": [
    "yearly_hate_crimes_new = yearly_hate_crimes.drop([yearly_hate_crimes.index[0], yearly_hate_crimes.index[1], yearly_hate_crimes.index[23], yearly_hate_crimes.index[27], yearly_hate_crimes.index[28], yearly_hate_crimes.index[8], yearly_hate_crimes.index[30]])\n"
   ]
  },
  {
   "cell_type": "code",
   "execution_count": 892,
   "metadata": {},
   "outputs": [],
   "source": [
    "yearly_hate_crimes_new = yearly_hate_crimes_new.drop([yearly_hate_crimes.index[8]])"
   ]
  },
  {
   "cell_type": "code",
   "execution_count": 896,
   "metadata": {},
   "outputs": [],
   "source": [
    "yearly_hate_crimes_new = yearly_hate_crimes_new[['Voters Z Score', 'Percent Change Z Score']]"
   ]
  },
  {
   "cell_type": "code",
   "execution_count": 901,
   "metadata": {},
   "outputs": [],
   "source": [
    "yearly_hate_crimes_new.columns = ['voters', 'change']"
   ]
  },
  {
   "cell_type": "code",
   "execution_count": 942,
   "metadata": {},
   "outputs": [],
   "source": [
    "votes = []\n",
    "for i in yearly_hate_crimes['Voters']:\n",
    "    if i >=.5:\n",
    "        score = 1\n",
    "        votes.append(score)\n",
    "    else:\n",
    "        score1 = 0\n",
    "        votes.append(score1)\n",
    "\n",
    "        \n",
    "    "
   ]
  },
  {
   "cell_type": "code",
   "execution_count": 946,
   "metadata": {},
   "outputs": [
    {
     "name": "stderr",
     "output_type": "stream",
     "text": [
      "/opt/anaconda3/lib/python3.7/site-packages/ipykernel_launcher.py:1: SettingWithCopyWarning: \n",
      "A value is trying to be set on a copy of a slice from a DataFrame.\n",
      "Try using .loc[row_indexer,col_indexer] = value instead\n",
      "\n",
      "See the caveats in the documentation: http://pandas.pydata.org/pandas-docs/stable/user_guide/indexing.html#returning-a-view-versus-a-copy\n",
      "  \"\"\"Entry point for launching an IPython kernel.\n"
     ]
    }
   ],
   "source": [
    "yearly_hate_crimes_new['outcome'] = new_votes"
   ]
  },
  {
   "cell_type": "code",
   "execution_count": 929,
   "metadata": {},
   "outputs": [
    {
     "data": {
      "text/plain": [
       "(array([ 2.,  2.,  3.,  2.,  7., 10.,  8.,  4.,  4.,  1.]),\n",
       " array([-0.18453005, -0.09455773, -0.00458542,  0.0853869 ,  0.17535922,\n",
       "         0.26533154,  0.35530386,  0.44527618,  0.53524849,  0.62522081,\n",
       "         0.71519313]),\n",
       " <a list of 10 Patch objects>)"
      ]
     },
     "execution_count": 929,
     "metadata": {},
     "output_type": "execute_result"
    },
    {
     "data": {
      "image/png": "[encoded data removed]",
      "text/plain": [
       "<Figure size 432x288 with 1 Axes>"
      ]
     },
     "metadata": {
      "needs_background": "light"
     },
     "output_type": "display_data"
    }
   ],
   "source": [
    "#plt.scatter(yearly_hate_crimes_new['change'], new_votes)\n",
    "plt.hist(yearly_hate_crimes_new['change'])"
   ]
  },
  {
   "cell_type": "code",
   "execution_count": 949,
   "metadata": {},
   "outputs": [],
   "source": [
    "new_voters = []\n",
    "for i in yearly_hate_crimes_new.index:\n",
    "    votes1 = yearly_hate_crimes['Voters'][i]\n",
    "    new_voters.append(votes1)"
   ]
  },
  {
   "cell_type": "code",
   "execution_count": 950,
   "metadata": {},
   "outputs": [
    {
     "name": "stderr",
     "output_type": "stream",
     "text": [
      "/opt/anaconda3/lib/python3.7/site-packages/ipykernel_launcher.py:1: SettingWithCopyWarning: \n",
      "A value is trying to be set on a copy of a slice from a DataFrame.\n",
      "Try using .loc[row_indexer,col_indexer] = value instead\n",
      "\n",
      "See the caveats in the documentation: http://pandas.pydata.org/pandas-docs/stable/user_guide/indexing.html#returning-a-view-versus-a-copy\n",
      "  \"\"\"Entry point for launching an IPython kernel.\n"
     ]
    }
   ],
   "source": [
    "yearly_hate_crimes_new['Voters New'] = new_voters"
   ]
  },
  {
   "cell_type": "code",
   "execution_count": 962,
   "metadata": {},
   "outputs": [],
   "source": [
    "v_z = []\n",
    "for i in yearly_hate_crimes_new.index:\n",
    "    voters_z_score = yearly_hate_crimes['Percent Change Z Score'][i]\n",
    "    v_z.append(voters_z_score)"
   ]
  },
  {
   "cell_type": "code",
   "execution_count": 963,
   "metadata": {},
   "outputs": [],
   "source": [
    "yearly_hate_crimes_new['Percent Change Z Score'] = v_z"
   ]
  },
  {
   "cell_type": "code",
   "execution_count": 965,
   "metadata": {},
   "outputs": [
    {
     "name": "stderr",
     "output_type": "stream",
     "text": [
      "/opt/anaconda3/lib/python3.7/site-packages/numpy/core/fromnumeric.py:2495: FutureWarning: Method .ptp is deprecated and will be removed in a future version. Use numpy.ptp instead.\n",
      "  return ptp(axis=axis, out=out, **kwargs)\n"
     ]
    },
    {
     "data": {
      "text/html": [
       "<table class=\"simpletable\">\n",
       "<caption>OLS Regression Results</caption>\n",
       "<tr>\n",
       "  <th>Dep. Variable:</th>    <td>Percent Change Z Score</td> <th>  R-squared:         </th> <td>   0.012</td>\n",
       "</tr>\n",
       "<tr>\n",
       "  <th>Model:</th>                      <td>OLS</td>          <th>  Adj. R-squared:    </th> <td>  -0.012</td>\n",
       "</tr>\n",
       "<tr>\n",
       "  <th>Method:</th>                <td>Least Squares</td>     <th>  F-statistic:       </th> <td>  0.5036</td>\n",
       "</tr>\n",
       "<tr>\n",
       "  <th>Date:</th>                <td>Thu, 16 Jan 2020</td>    <th>  Prob (F-statistic):</th>  <td> 0.482</td> \n",
       "</tr>\n",
       "<tr>\n",
       "  <th>Time:</th>                    <td>12:54:21</td>        <th>  Log-Likelihood:    </th> <td>  9.5828</td>\n",
       "</tr>\n",
       "<tr>\n",
       "  <th>No. Observations:</th>         <td>    43</td>         <th>  AIC:               </th> <td>  -15.17</td>\n",
       "</tr>\n",
       "<tr>\n",
       "  <th>Df Residuals:</th>             <td>    41</td>         <th>  BIC:               </th> <td>  -11.64</td>\n",
       "</tr>\n",
       "<tr>\n",
       "  <th>Df Model:</th>                 <td>     1</td>         <th>                     </th>     <td> </td>   \n",
       "</tr>\n",
       "<tr>\n",
       "  <th>Covariance Type:</th>         <td>nonrobust</td>       <th>                     </th>     <td> </td>   \n",
       "</tr>\n",
       "</table>\n",
       "<table class=\"simpletable\">\n",
       "<tr>\n",
       "     <td></td>        <th>coef</th>     <th>std err</th>      <th>t</th>      <th>P>|t|</th>  <th>[0.025</th>    <th>0.975]</th>  \n",
       "</tr>\n",
       "<tr>\n",
       "  <th>const</th>   <td>    0.3174</td> <td>    0.043</td> <td>    7.335</td> <td> 0.000</td> <td>    0.230</td> <td>    0.405</td>\n",
       "</tr>\n",
       "<tr>\n",
       "  <th>outcome</th> <td>   -0.0429</td> <td>    0.060</td> <td>   -0.710</td> <td> 0.482</td> <td>   -0.165</td> <td>    0.079</td>\n",
       "</tr>\n",
       "</table>\n",
       "<table class=\"simpletable\">\n",
       "<tr>\n",
       "  <th>Omnibus:</th>       <td> 1.362</td> <th>  Durbin-Watson:     </th> <td>   2.368</td>\n",
       "</tr>\n",
       "<tr>\n",
       "  <th>Prob(Omnibus):</th> <td> 0.506</td> <th>  Jarque-Bera (JB):  </th> <td>   0.980</td>\n",
       "</tr>\n",
       "<tr>\n",
       "  <th>Skew:</th>          <td>-0.370</td> <th>  Prob(JB):          </th> <td>   0.613</td>\n",
       "</tr>\n",
       "<tr>\n",
       "  <th>Kurtosis:</th>      <td> 2.973</td> <th>  Cond. No.          </th> <td>    2.65</td>\n",
       "</tr>\n",
       "</table><br/><br/>Warnings:<br/>[1] Standard Errors assume that the covariance matrix of the errors is correctly specified."
      ],
      "text/plain": [
       "<class 'statsmodels.iolib.summary.Summary'>\n",
       "\"\"\"\n",
       "                              OLS Regression Results                              \n",
       "==================================================================================\n",
       "Dep. Variable:     Percent Change Z Score   R-squared:                       0.012\n",
       "Model:                                OLS   Adj. R-squared:                 -0.012\n",
       "Method:                     Least Squares   F-statistic:                    0.5036\n",
       "Date:                    Thu, 16 Jan 2020   Prob (F-statistic):              0.482\n",
       "Time:                            12:54:21   Log-Likelihood:                 9.5828\n",
       "No. Observations:                      43   AIC:                            -15.17\n",
       "Df Residuals:                          41   BIC:                            -11.64\n",
       "Df Model:                               1                                         \n",
       "Covariance Type:                nonrobust                                         \n",
       "==============================================================================\n",
       "                 coef    std err          t      P>|t|      [0.025      0.975]\n",
       "------------------------------------------------------------------------------\n",
       "const          0.3174      0.043      7.335      0.000       0.230       0.405\n",
       "outcome       -0.0429      0.060     -0.710      0.482      -0.165       0.079\n",
       "==============================================================================\n",
       "Omnibus:                        1.362   Durbin-Watson:                   2.368\n",
       "Prob(Omnibus):                  0.506   Jarque-Bera (JB):                0.980\n",
       "Skew:                          -0.370   Prob(JB):                        0.613\n",
       "Kurtosis:                       2.973   Cond. No.                         2.65\n",
       "==============================================================================\n",
       "\n",
       "Warnings:\n",
       "[1] Standard Errors assume that the covariance matrix of the errors is correctly specified.\n",
       "\"\"\""
      ]
     },
     "execution_count": 965,
     "metadata": {},
     "output_type": "execute_result"
    }
   ],
   "source": [
    "y = yearly_hate_crimes_new['Percent Change Z Score']\n",
    "x1 = yearly_hate_crimes_new['outcome']\n",
    "\n",
    "x = sm.add_constant(x1)\n",
    "results = sm.OLS(y,x).fit()\n",
    "\n",
    "results.summary()"
   ]
  },
  {
   "cell_type": "code",
   "execution_count": 985,
   "metadata": {},
   "outputs": [],
   "source": [
    "gini = pd.read_csv('gini_by_state.csv', index_col=0)"
   ]
  },
  {
   "cell_type": "code",
   "execution_count": 1,
   "metadata": {},
   "outputs": [],
   "source": [
    "#gini.drop(['Unnamed: 0'], axis=1, inplace=True)"
   ]
  },
  {
   "cell_type": "code",
   "execution_count": 988,
   "metadata": {},
   "outputs": [],
   "source": [
    "gini.columns = ['State', '2013', '2014', '2015', '2016', '2017']"
   ]
  },
  {
   "cell_type": "code",
   "execution_count": 993,
   "metadata": {},
   "outputs": [],
   "source": [
    "gini = pd.read_csv('gini_by_state (1).csv', index_col=0)"
   ]
  },
  {
   "cell_type": "code",
   "execution_count": 995,
   "metadata": {},
   "outputs": [],
   "source": [
    "gini.columns = ['State', '2013', '2014', '2015', '2016', '2017']"
   ]
  },
  {
   "cell_type": "code",
   "execution_count": 1010,
   "metadata": {},
   "outputs": [],
   "source": [
    "mean = gini.mean(axis=1)"
   ]
  },
  {
   "cell_type": "code",
   "execution_count": 1011,
   "metadata": {},
   "outputs": [],
   "source": [
    "mean1 = []\n",
    "for i in yearly_hate_crimes_new.index:\n",
    "    new_mean = mean[i]\n",
    "    mean1.append(new_mean)"
   ]
  },
  {
   "cell_type": "code",
   "execution_count": 1021,
   "metadata": {},
   "outputs": [],
   "source": [
    "state1 = []\n",
    "a2 = []\n",
    "a3 = []\n",
    "a4 = []\n",
    "a5 = []\n",
    "a6 = []\n",
    "for i in yearly_hate_crimes_new.index:\n",
    "    state = gini['State'][i]\n",
    "    a = gini['2013'][i]\n",
    "    b = gini['2014'][i]\n",
    "    c = gini['2015'][i]\n",
    "    d = gini['2016'][i]\n",
    "    e = gini['2017'][i]\n",
    "    state1.append(state)\n",
    "    a2.append(a)\n",
    "    a3.append(b)\n",
    "    a4.append(c)\n",
    "    a5.append(d)\n",
    "    a6.append(e)"
   ]
  },
  {
   "cell_type": "code",
   "execution_count": 1024,
   "metadata": {},
   "outputs": [],
   "source": [
    "data = "
   ]
  },
  {
   "cell_type": "code",
   "execution_count": 1028,
   "metadata": {},
   "outputs": [],
   "source": [
    "blah = []\n",
    "for i in range(len(state1)):\n",
    "    new_data = [state1[i], a2[i], a3[i], a4[i], a5[i], a6[i]]\n",
    "    blah.append(new_data)"
   ]
  },
  {
   "cell_type": "code",
   "execution_count": 1030,
   "metadata": {},
   "outputs": [],
   "source": [
    "df = pd.DataFrame(blah, columns = ['State', '2013', '2014', '2015', '2016', '2017'])"
   ]
  },
  {
   "cell_type": "code",
   "execution_count": 1038,
   "metadata": {},
   "outputs": [],
   "source": [
    "df['crime'] = yearly_hate_crimes_new['Percent Change Z Score']"
   ]
  },
  {
   "cell_type": "code",
   "execution_count": 1033,
   "metadata": {},
   "outputs": [],
   "source": [
    "df['mean'] = mean1"
   ]
  },
  {
   "cell_type": "code",
   "execution_count": 1036,
   "metadata": {},
   "outputs": [],
   "source": [
    "yearly_hate_crimes_new = yearly_hate_crimes_new.reset_index(drop=True)"
   ]
  },
  {
   "cell_type": "code",
   "execution_count": 1043,
   "metadata": {},
   "outputs": [
    {
     "data": {
      "text/plain": [
       "<matplotlib.collections.PathCollection at 0x1c2bbe8150>"
      ]
     },
     "execution_count": 1043,
     "metadata": {},
     "output_type": "execute_result"
    },
    {
     "data": {
      "image/png": "[encoded data removed]",
      "text/plain": [
       "<Figure size 432x288 with 1 Axes>"
      ]
     },
     "metadata": {
      "needs_background": "light"
     },
     "output_type": "display_data"
    }
   ],
   "source": [
    "plt.scatter(df['mean'], df['crime'])"
   ]
  },
  {
   "cell_type": "code",
   "execution_count": 1059,
   "metadata": {},
   "outputs": [
    {
     "data": {
      "text/plain": [
       "Text(0.5, 1.0, 'Hate Crime vs. Gini Coefficient')"
      ]
     },
     "execution_count": 1059,
     "metadata": {},
     "output_type": "execute_result"
    },
    {
     "data": {
      "image/png": "[encoded data removed]",
      "text/plain": [
       "<Figure size 720x504 with 1 Axes>"
      ]
     },
     "metadata": {
      "needs_background": "light"
     },
     "output_type": "display_data"
    }
   ],
   "source": [
    "plt.figure(figsize=(10,7))\n",
    "\n",
    "sns.regplot(x = df['mean'], y = df['avg_hate'])\n",
    "plt.title('Hate Crime vs. Gini Coefficient')"
   ]
  },
  {
   "cell_type": "code",
   "execution_count": 1048,
   "metadata": {},
   "outputs": [],
   "source": [
    "new_avg_hate = []\n",
    "for i in yearly_hate_crimes_new.index:\n",
    "    average_hate = yearly_hate_crimes['Average'][i]\n",
    "    new_avg_hate.append(average_hate)"
   ]
  },
  {
   "cell_type": "code",
   "execution_count": 1049,
   "metadata": {},
   "outputs": [],
   "source": [
    "df['avg_hate'] = new_avg_hate"
   ]
  },
  {
   "cell_type": "code",
   "execution_count": 1062,
   "metadata": {},
   "outputs": [],
   "source": [
    "df = df.rename(columns={\"avg_hate\": \"hate\"})"
   ]
  },
  {
   "cell_type": "code",
   "execution_count": 1065,
   "metadata": {},
   "outputs": [],
   "source": [
    "lr_model = ols(formula='mean~hate', data=df).fit()"
   ]
  },
  {
   "cell_type": "code",
   "execution_count": 1066,
   "metadata": {},
   "outputs": [
    {
     "data": {
      "text/html": [
       "<table class=\"simpletable\">\n",
       "<caption>OLS Regression Results</caption>\n",
       "<tr>\n",
       "  <th>Dep. Variable:</th>          <td>mean</td>       <th>  R-squared:         </th> <td>   0.070</td>\n",
       "</tr>\n",
       "<tr>\n",
       "  <th>Model:</th>                   <td>OLS</td>       <th>  Adj. R-squared:    </th> <td>   0.047</td>\n",
       "</tr>\n",
       "<tr>\n",
       "  <th>Method:</th>             <td>Least Squares</td>  <th>  F-statistic:       </th> <td>   3.020</td>\n",
       "</tr>\n",
       "<tr>\n",
       "  <th>Date:</th>             <td>Thu, 16 Jan 2020</td> <th>  Prob (F-statistic):</th>  <td>0.0899</td> \n",
       "</tr>\n",
       "<tr>\n",
       "  <th>Time:</th>                 <td>15:14:41</td>     <th>  Log-Likelihood:    </th> <td>  113.11</td>\n",
       "</tr>\n",
       "<tr>\n",
       "  <th>No. Observations:</th>      <td>    42</td>      <th>  AIC:               </th> <td>  -222.2</td>\n",
       "</tr>\n",
       "<tr>\n",
       "  <th>Df Residuals:</th>          <td>    40</td>      <th>  BIC:               </th> <td>  -218.7</td>\n",
       "</tr>\n",
       "<tr>\n",
       "  <th>Df Model:</th>              <td>     1</td>      <th>                     </th>     <td> </td>   \n",
       "</tr>\n",
       "<tr>\n",
       "  <th>Covariance Type:</th>      <td>nonrobust</td>    <th>                     </th>     <td> </td>   \n",
       "</tr>\n",
       "</table>\n",
       "<table class=\"simpletable\">\n",
       "<tr>\n",
       "      <td></td>         <th>coef</th>     <th>std err</th>      <th>t</th>      <th>P>|t|</th>  <th>[0.025</th>    <th>0.975]</th>  \n",
       "</tr>\n",
       "<tr>\n",
       "  <th>Intercept</th> <td>    0.4561</td> <td>    0.005</td> <td>   96.631</td> <td> 0.000</td> <td>    0.447</td> <td>    0.466</td>\n",
       "</tr>\n",
       "<tr>\n",
       "  <th>hate</th>      <td>  341.0669</td> <td>  196.259</td> <td>    1.738</td> <td> 0.090</td> <td>  -55.587</td> <td>  737.721</td>\n",
       "</tr>\n",
       "</table>\n",
       "<table class=\"simpletable\">\n",
       "<tr>\n",
       "  <th>Omnibus:</th>       <td> 0.311</td> <th>  Durbin-Watson:     </th> <td>   1.954</td>\n",
       "</tr>\n",
       "<tr>\n",
       "  <th>Prob(Omnibus):</th> <td> 0.856</td> <th>  Jarque-Bera (JB):  </th> <td>   0.426</td>\n",
       "</tr>\n",
       "<tr>\n",
       "  <th>Skew:</th>          <td> 0.182</td> <th>  Prob(JB):          </th> <td>   0.808</td>\n",
       "</tr>\n",
       "<tr>\n",
       "  <th>Kurtosis:</th>      <td> 2.667</td> <th>  Cond. No.          </th> <td>7.58e+04</td>\n",
       "</tr>\n",
       "</table><br/><br/>Warnings:<br/>[1] Standard Errors assume that the covariance matrix of the errors is correctly specified.<br/>[2] The condition number is large, 7.58e+04. This might indicate that there are<br/>strong multicollinearity or other numerical problems."
      ],
      "text/plain": [
       "<class 'statsmodels.iolib.summary.Summary'>\n",
       "\"\"\"\n",
       "                            OLS Regression Results                            \n",
       "==============================================================================\n",
       "Dep. Variable:                   mean   R-squared:                       0.070\n",
       "Model:                            OLS   Adj. R-squared:                  0.047\n",
       "Method:                 Least Squares   F-statistic:                     3.020\n",
       "Date:                Thu, 16 Jan 2020   Prob (F-statistic):             0.0899\n",
       "Time:                        15:14:41   Log-Likelihood:                 113.11\n",
       "No. Observations:                  42   AIC:                            -222.2\n",
       "Df Residuals:                      40   BIC:                            -218.7\n",
       "Df Model:                           1                                         \n",
       "Covariance Type:            nonrobust                                         \n",
       "==============================================================================\n",
       "                 coef    std err          t      P>|t|      [0.025      0.975]\n",
       "------------------------------------------------------------------------------\n",
       "Intercept      0.4561      0.005     96.631      0.000       0.447       0.466\n",
       "hate         341.0669    196.259      1.738      0.090     -55.587     737.721\n",
       "==============================================================================\n",
       "Omnibus:                        0.311   Durbin-Watson:                   1.954\n",
       "Prob(Omnibus):                  0.856   Jarque-Bera (JB):                0.426\n",
       "Skew:                           0.182   Prob(JB):                        0.808\n",
       "Kurtosis:                       2.667   Cond. No.                     7.58e+04\n",
       "==============================================================================\n",
       "\n",
       "Warnings:\n",
       "[1] Standard Errors assume that the covariance matrix of the errors is correctly specified.\n",
       "[2] The condition number is large, 7.58e+04. This might indicate that there are\n",
       "strong multicollinearity or other numerical problems.\n",
       "\"\"\""
      ]
     },
     "execution_count": 1066,
     "metadata": {},
     "output_type": "execute_result"
    }
   ],
   "source": [
    "lr_model.summary()"
   ]
  },
  {
   "cell_type": "code",
   "execution_count": 1091,
   "metadata": {},
   "outputs": [],
   "source": [
    "gini_13 = list(df_2013['Gini_Index_Est_2013'])\n",
    "gini_14 = list(df_2014['Gini_Index_Est_2014'])\n",
    "gini_15 = list(df_2015['Gini_Index_Est_2015'])\n",
    "gini_16 = list(df_2016['Gini_Index_Est_2016'])\n",
    "gini_17 = list(df_2017['Gini_Index_Est_2017'])\n",
    "\n",
    "all_gini = gini_13 + gini_14 + gini_15 + gini_16 + gini_17"
   ]
  },
  {
   "cell_type": "code",
   "execution_count": 1087,
   "metadata": {},
   "outputs": [],
   "source": [
    "hate_crime13 = list(df_2013['Population Proportion'])\n",
    "hate_crime14 = list(df_2014['Population Proportion'])\n",
    "hate_crime15 = list(df_2015['Population Proportion'])\n",
    "hate_crime16 = list(df_2016['Population Proportion'])\n",
    "hate_crime17 = list(df_2017['Population Proportion'])\n",
    "\n",
    "all_crime = hate_crime13 + hate_crime14 + hate_crime15 + hate_crime16 +hate_crime17"
   ]
  },
  {
   "cell_type": "code",
   "execution_count": 1092,
   "metadata": {},
   "outputs": [
    {
     "data": {
      "text/plain": [
       "251"
      ]
     },
     "execution_count": 1092,
     "metadata": {},
     "output_type": "execute_result"
    }
   ],
   "source": [
    "len(all_crime)"
   ]
  },
  {
   "cell_type": "code",
   "execution_count": 1101,
   "metadata": {},
   "outputs": [],
   "source": [
    "datasett = []\n",
    "for i in range(len(all_crime)):\n",
    "    dataset = [all_gini[i], all_crime[i]]\n",
    "    datasett.append(dataset)"
   ]
  },
  {
   "cell_type": "code",
   "execution_count": 1102,
   "metadata": {},
   "outputs": [],
   "source": [
    "gini_crime = pd.DataFrame(datasett, columns=['Crime', 'Gini'])"
   ]
  },
  {
   "cell_type": "code",
   "execution_count": 1103,
   "metadata": {},
   "outputs": [
    {
     "data": {
      "text/html": [
       "<div>\n",
       "<style scoped>\n",
       "    .dataframe tbody tr th:only-of-type {\n",
       "        vertical-align: middle;\n",
       "    }\n",
       "\n",
       "    .dataframe tbody tr th {\n",
       "        vertical-align: top;\n",
       "    }\n",
       "\n",
       "    .dataframe thead th {\n",
       "        text-align: right;\n",
       "    }\n",
       "</style>\n",
       "<table border=\"1\" class=\"dataframe\">\n",
       "  <thead>\n",
       "    <tr style=\"text-align: right;\">\n",
       "      <th></th>\n",
       "      <th>Crime</th>\n",
       "      <th>Gini</th>\n",
       "    </tr>\n",
       "  </thead>\n",
       "  <tbody>\n",
       "    <tr>\n",
       "      <td>0</td>\n",
       "      <td>0.4729</td>\n",
       "      <td>0.000005</td>\n",
       "    </tr>\n",
       "    <tr>\n",
       "      <td>1</td>\n",
       "      <td>0.4143</td>\n",
       "      <td>0.000011</td>\n",
       "    </tr>\n",
       "    <tr>\n",
       "      <td>2</td>\n",
       "      <td>0.4585</td>\n",
       "      <td>0.000024</td>\n",
       "    </tr>\n",
       "    <tr>\n",
       "      <td>3</td>\n",
       "      <td>0.4646</td>\n",
       "      <td>0.000010</td>\n",
       "    </tr>\n",
       "    <tr>\n",
       "      <td>4</td>\n",
       "      <td>0.4782</td>\n",
       "      <td>0.000022</td>\n",
       "    </tr>\n",
       "    <tr>\n",
       "      <td>...</td>\n",
       "      <td>...</td>\n",
       "      <td>...</td>\n",
       "    </tr>\n",
       "    <tr>\n",
       "      <td>246</td>\n",
       "      <td>0.4643</td>\n",
       "      <td>0.000017</td>\n",
       "    </tr>\n",
       "    <tr>\n",
       "      <td>247</td>\n",
       "      <td>0.4496</td>\n",
       "      <td>0.000068</td>\n",
       "    </tr>\n",
       "    <tr>\n",
       "      <td>248</td>\n",
       "      <td>0.4614</td>\n",
       "      <td>0.000027</td>\n",
       "    </tr>\n",
       "    <tr>\n",
       "      <td>249</td>\n",
       "      <td>0.4381</td>\n",
       "      <td>0.000009</td>\n",
       "    </tr>\n",
       "    <tr>\n",
       "      <td>250</td>\n",
       "      <td>0.4185</td>\n",
       "      <td>0.000000</td>\n",
       "    </tr>\n",
       "  </tbody>\n",
       "</table>\n",
       "<p>251 rows × 2 columns</p>\n",
       "</div>"
      ],
      "text/plain": [
       "      Crime      Gini\n",
       "0    0.4729  0.000005\n",
       "1    0.4143  0.000011\n",
       "2    0.4585  0.000024\n",
       "3    0.4646  0.000010\n",
       "4    0.4782  0.000022\n",
       "..      ...       ...\n",
       "246  0.4643  0.000017\n",
       "247  0.4496  0.000068\n",
       "248  0.4614  0.000027\n",
       "249  0.4381  0.000009\n",
       "250  0.4185  0.000000\n",
       "\n",
       "[251 rows x 2 columns]"
      ]
     },
     "execution_count": 1103,
     "metadata": {},
     "output_type": "execute_result"
    }
   ],
   "source": [
    "gini_crime"
   ]
  },
  {
   "cell_type": "code",
   "execution_count": 1105,
   "metadata": {},
   "outputs": [],
   "source": [
    "lr_model = ols(formula='Crime~Gini', data=gini_crime).fit()"
   ]
  },
  {
   "cell_type": "code",
   "execution_count": 1106,
   "metadata": {},
   "outputs": [
    {
     "data": {
      "text/html": [
       "<table class=\"simpletable\">\n",
       "<caption>OLS Regression Results</caption>\n",
       "<tr>\n",
       "  <th>Dep. Variable:</th>          <td>Crime</td>      <th>  R-squared:         </th> <td>   0.159</td>\n",
       "</tr>\n",
       "<tr>\n",
       "  <th>Model:</th>                   <td>OLS</td>       <th>  Adj. R-squared:    </th> <td>   0.156</td>\n",
       "</tr>\n",
       "<tr>\n",
       "  <th>Method:</th>             <td>Least Squares</td>  <th>  F-statistic:       </th> <td>   46.75</td>\n",
       "</tr>\n",
       "<tr>\n",
       "  <th>Date:</th>             <td>Thu, 16 Jan 2020</td> <th>  Prob (F-statistic):</th> <td>6.28e-11</td>\n",
       "</tr>\n",
       "<tr>\n",
       "  <th>Time:</th>                 <td>16:07:14</td>     <th>  Log-Likelihood:    </th> <td>  629.14</td>\n",
       "</tr>\n",
       "<tr>\n",
       "  <th>No. Observations:</th>      <td>   249</td>      <th>  AIC:               </th> <td>  -1254.</td>\n",
       "</tr>\n",
       "<tr>\n",
       "  <th>Df Residuals:</th>          <td>   247</td>      <th>  BIC:               </th> <td>  -1247.</td>\n",
       "</tr>\n",
       "<tr>\n",
       "  <th>Df Model:</th>              <td>     1</td>      <th>                     </th>     <td> </td>   \n",
       "</tr>\n",
       "<tr>\n",
       "  <th>Covariance Type:</th>      <td>nonrobust</td>    <th>                     </th>     <td> </td>   \n",
       "</tr>\n",
       "</table>\n",
       "<table class=\"simpletable\">\n",
       "<tr>\n",
       "      <td></td>         <th>coef</th>     <th>std err</th>      <th>t</th>      <th>P>|t|</th>  <th>[0.025</th>    <th>0.975]</th>  \n",
       "</tr>\n",
       "<tr>\n",
       "  <th>Intercept</th> <td>    0.4524</td> <td>    0.002</td> <td>  277.963</td> <td> 0.000</td> <td>    0.449</td> <td>    0.456</td>\n",
       "</tr>\n",
       "<tr>\n",
       "  <th>Gini</th>      <td>  317.4825</td> <td>   46.433</td> <td>    6.837</td> <td> 0.000</td> <td>  226.027</td> <td>  408.938</td>\n",
       "</tr>\n",
       "</table>\n",
       "<table class=\"simpletable\">\n",
       "<tr>\n",
       "  <th>Omnibus:</th>       <td> 4.952</td> <th>  Durbin-Watson:     </th> <td>   1.951</td>\n",
       "</tr>\n",
       "<tr>\n",
       "  <th>Prob(Omnibus):</th> <td> 0.084</td> <th>  Jarque-Bera (JB):  </th> <td>   3.074</td>\n",
       "</tr>\n",
       "<tr>\n",
       "  <th>Skew:</th>          <td> 0.039</td> <th>  Prob(JB):          </th> <td>   0.215</td>\n",
       "</tr>\n",
       "<tr>\n",
       "  <th>Kurtosis:</th>      <td> 2.461</td> <th>  Cond. No.          </th> <td>3.77e+04</td>\n",
       "</tr>\n",
       "</table><br/><br/>Warnings:<br/>[1] Standard Errors assume that the covariance matrix of the errors is correctly specified.<br/>[2] The condition number is large, 3.77e+04. This might indicate that there are<br/>strong multicollinearity or other numerical problems."
      ],
      "text/plain": [
       "<class 'statsmodels.iolib.summary.Summary'>\n",
       "\"\"\"\n",
       "                            OLS Regression Results                            \n",
       "==============================================================================\n",
       "Dep. Variable:                  Crime   R-squared:                       0.159\n",
       "Model:                            OLS   Adj. R-squared:                  0.156\n",
       "Method:                 Least Squares   F-statistic:                     46.75\n",
       "Date:                Thu, 16 Jan 2020   Prob (F-statistic):           6.28e-11\n",
       "Time:                        16:07:14   Log-Likelihood:                 629.14\n",
       "No. Observations:                 249   AIC:                            -1254.\n",
       "Df Residuals:                     247   BIC:                            -1247.\n",
       "Df Model:                           1                                         \n",
       "Covariance Type:            nonrobust                                         \n",
       "==============================================================================\n",
       "                 coef    std err          t      P>|t|      [0.025      0.975]\n",
       "------------------------------------------------------------------------------\n",
       "Intercept      0.4524      0.002    277.963      0.000       0.449       0.456\n",
       "Gini         317.4825     46.433      6.837      0.000     226.027     408.938\n",
       "==============================================================================\n",
       "Omnibus:                        4.952   Durbin-Watson:                   1.951\n",
       "Prob(Omnibus):                  0.084   Jarque-Bera (JB):                3.074\n",
       "Skew:                           0.039   Prob(JB):                        0.215\n",
       "Kurtosis:                       2.461   Cond. No.                     3.77e+04\n",
       "==============================================================================\n",
       "\n",
       "Warnings:\n",
       "[1] Standard Errors assume that the covariance matrix of the errors is correctly specified.\n",
       "[2] The condition number is large, 3.77e+04. This might indicate that there are\n",
       "strong multicollinearity or other numerical problems.\n",
       "\"\"\""
      ]
     },
     "execution_count": 1106,
     "metadata": {},
     "output_type": "execute_result"
    }
   ],
   "source": [
    "lr_model.summary()"
   ]
  },
  {
   "cell_type": "code",
   "execution_count": null,
   "metadata": {},
   "outputs": [],
   "source": []
  }
 ],
 "metadata": {
  "kernelspec": {
   "display_name": "Python 3",
   "language": "python",
   "name": "python3"
  },
  "language_info": {
   "codemirror_mode": {
    "name": "ipython",
    "version": 3
   },
   "file_extension": ".py",
   "mimetype": "text/x-python",
   "name": "python",
   "nbconvert_exporter": "python",
   "pygments_lexer": "ipython3",
   "version": "3.7.4"
  }
 },
 "nbformat": 4,
 "nbformat_minor": 2
}
